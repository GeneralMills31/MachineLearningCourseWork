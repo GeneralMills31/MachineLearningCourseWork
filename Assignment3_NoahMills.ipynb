{
  "nbformat": 4,
  "nbformat_minor": 0,
  "metadata": {
    "colab": {
      "provenance": []
    },
    "kernelspec": {
      "name": "python3",
      "display_name": "Python 3"
    },
    "language_info": {
      "name": "python"
    }
  },
  "cells": [
    {
      "cell_type": "markdown",
      "source": [
        "Noah Mills\n",
        "\n",
        "Instructor Munmun\n",
        "\n",
        "ICS 352-51\n",
        "\n",
        "April 6, 2025\n",
        "\n",
        "Assignment 3"
      ],
      "metadata": {
        "id": "W7dUIzZyILTf"
      }
    },
    {
      "cell_type": "markdown",
      "source": [
        "**Question 1**"
      ],
      "metadata": {
        "id": "0gHnFnrAIH1s"
      }
    },
    {
      "cell_type": "markdown",
      "source": [
        "***Consider a neuron with 2 inputs, 1 output, and a threshold activation function. If the two weights are w1 = −1 and w2 = −1, and the bias is b = 1.5, then what is the output for input (0,0)? What about for inputs (1,0), (0,1), and (1,1)?***\n",
        "\n",
        "Case [0,0]: (1.5)(1) + (-1)(0) + (-1)(0) = 1.5 -> 1\n",
        "\n",
        "Case [1,0]: (1.5)(1) + (-1)(1) + (-1)(0) = 0.5 -> 1\n",
        "\n",
        "Case [0,1]: (1.5)(1) + (-1)(0) + (-1)(1) = 0.5 -> 1\n",
        "\n",
        "Case [1,1]: (1.5)(1) + (-1)(1) + (-1)(1) = -0.5 -> 0\n",
        "\n",
        "***Draw the discriminant function for this function and write down its equation. Does it correspond to any particular logic gate?***\n",
        "\n",
        "![Screenshot 2025-04-07 114006.png](data:image/png;base64,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)\n",
        "\n",
        "Function:\n",
        "\n",
        "x2 = -x1 + 1.5\n",
        "\n",
        "OR: x1 = -x2 +1.5\n",
        "\n",
        "OR: x1 + x2 = 1.5\n",
        "\n",
        "Yes, it corresponds to a NAND gate."
      ],
      "metadata": {
        "id": "dCCGgIJ8GsXz"
      }
    },
    {
      "cell_type": "markdown",
      "source": [
        "**Question 2**"
      ],
      "metadata": {
        "id": "INhuM_grGX9z"
      }
    },
    {
      "cell_type": "markdown",
      "source": [
        "***Is the perceptron algorithm able to find a solution for NAND logical function? Explain why.***\n",
        "\n",
        "Yes, it is. A perceptron takes in input (does some calculations with the input and weights) and passes the result through an activation function. Then, based on the training data, the algorithm will adjust itself by altering its weights and threshold to hopefully get the right answer more often. The NAND gate here is linearly separable, unlike XOR in our notes, so the perceptron wants to find a straight line (decision boundary) that separates truth from false. It is more than capable of doing so based on the graph we have above."
      ],
      "metadata": {
        "id": "6WDGMT9dGT_M"
      }
    },
    {
      "cell_type": "markdown",
      "source": [
        "***Write a program that constructs logical NAND using neural networks, you can use the predefined modules in scikit learn.***"
      ],
      "metadata": {
        "id": "xBrLyky_F_aL"
      }
    },
    {
      "cell_type": "code",
      "execution_count": 5,
      "metadata": {
        "colab": {
          "base_uri": "https://localhost:8080/"
        },
        "id": "PAhd75lJ-oNW",
        "outputId": "0abc4808-7db4-4c57-f425-6dca408c903c"
      },
      "outputs": [
        {
          "output_type": "stream",
          "name": "stdout",
          "text": [
            "Predictions:  [1 1 1 0]\n",
            "Answer:  [1 1 1 0]\n"
          ]
        }
      ],
      "source": [
        "import numpy as np\n",
        "from sklearn.neural_network import MLPClassifier\n",
        "\n",
        "x = np.array([[0,0], [0,1], [1,0], [1,1]])\n",
        "y = np.array([1, 1, 1, 0])\n",
        "\n",
        "# Using logisitic and lbfgs as they are adequate for binary classifications (NAND).\n",
        "mlp = MLPClassifier(hidden_layer_sizes=(), activation='logistic', solver='lbfgs', random_state=42)\n",
        "mlp.fit(x,y)\n",
        "print(\"Predictions: \", mlp.predict(x))\n",
        "print(\"Answer: \", y)"
      ]
    },
    {
      "cell_type": "markdown",
      "source": [
        "**Question 3**"
      ],
      "metadata": {
        "id": "By8xBMP8GpDB"
      }
    },
    {
      "cell_type": "markdown",
      "source": [
        "**What are the features, and targets in this training dataset? How many classes does this example have?**\n",
        "\n",
        "Features: Comedy, Doctors, Lawyers, and Guns\n",
        "\n",
        "Targets: Likes\n",
        "\n",
        "Classes: True and False"
      ],
      "metadata": {
        "id": "1OqHqRRhJQ4X"
      }
    },
    {
      "cell_type": "markdown",
      "source": [
        "**Use Support Vector Machines on the training dataset, to predict whether the user will like or not like the TV show with the attributes Comedy = true, Doctors = true, Lawyers = False, Guns = False**"
      ],
      "metadata": {
        "id": "If4CL4JSJWUk"
      }
    },
    {
      "cell_type": "code",
      "source": [
        "import numpy as np\n",
        "from sklearn.svm import SVC\n",
        "\n",
        "# Feature rows\n",
        "x = np.array([\n",
        "    [0, 1, 0, 0], # 1\n",
        "    [1, 0, 1, 0], # 2\n",
        "    [0, 0, 1, 1], # 3\n",
        "    [0, 0, 1, 0], # 4\n",
        "    [0, 0, 0, 1], # 5\n",
        "    [1, 0, 0, 1], # 6\n",
        "    [1, 0, 0, 0], # 7\n",
        "    [0, 1, 1, 1], # 8\n",
        "    [0, 1, 1, 0], # 9\n",
        "    [1, 1, 1, 0], # 10\n",
        "    [1, 1, 0, 1], # 11\n",
        "    [0, 0, 0, 0], # 12\n",
        "])\n",
        "\n",
        "# Likes column\n",
        "y = np.array([\n",
        "    0, 1, 1, 0,\n",
        "    0, 0, 1, 1,\n",
        "    0, 1, 0, 0\n",
        "])\n",
        "\n",
        "# Array to predict\n",
        "testArray = np.array([[1, 1, 0, 0]])\n",
        "\n",
        "# SVM Model\n",
        "model = SVC(kernel='linear')\n",
        "model.fit(x,y)\n",
        "prediction = model.predict(testArray)\n",
        "\n",
        "# Display prediction\n",
        "if prediction[0] == 0:\n",
        "  print(\"Viewer will LIKE the show.\")\n",
        "else:\n",
        "  print(\"Viewer will NOT like the show.\")"
      ],
      "metadata": {
        "colab": {
          "base_uri": "https://localhost:8080/"
        },
        "id": "NR-AeIUzJZMx",
        "outputId": "21fa2b6f-9b4b-4936-8783-4e7410612558"
      },
      "execution_count": 2,
      "outputs": [
        {
          "output_type": "stream",
          "name": "stdout",
          "text": [
            "User will LIKE the show.\n"
          ]
        }
      ]
    },
    {
      "cell_type": "markdown",
      "source": [
        "**Is Support Vector Machines a supervised or unsupervised learning? Explain why.**\n",
        "\n",
        "SVM is a SUPERVISED learning algorithm. It is best used for classification and regression work. It is supervised due to the fact it is given training data with the correct answers. This is how the algorithm learns. We can see this in the example above. We gave the algorithm multiple rows of data and the outcome (answer) for those rows. The algorithm then learns from this provided data to more accurately predict the test array we provided it (1, 1, 0, 0)."
      ],
      "metadata": {
        "id": "8UR96QPCRQti"
      }
    }
  ]
}