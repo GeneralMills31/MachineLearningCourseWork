{
  "nbformat": 4,
  "nbformat_minor": 0,
  "metadata": {
    "colab": {
      "provenance": []
    },
    "kernelspec": {
      "name": "python3",
      "display_name": "Python 3"
    },
    "language_info": {
      "name": "python"
    }
  },
  "cells": [
    {
      "cell_type": "markdown",
      "source": [
        "Noah Mills\n",
        "\n",
        "Lab 2\n",
        "\n",
        "1/21/25\n",
        "\n",
        "Program One"
      ],
      "metadata": {
        "id": "NkIz9xczvyT_"
      }
    },
    {
      "cell_type": "code",
      "execution_count": 5,
      "metadata": {
        "colab": {
          "base_uri": "https://localhost:8080/"
        },
        "id": "5R9LsUaWvtLf",
        "outputId": "c474c4b7-52db-49fd-8b27-b3d29681bac2"
      },
      "outputs": [
        {
          "output_type": "stream",
          "name": "stdout",
          "text": [
            "Enter a word or phrase: My name is noah\n",
            "[('m', 2), ('y', 1), ('n', 2), ('a', 2), ('e', 1), ('i', 1), ('s', 1), ('o', 1), ('h', 1)]\n"
          ]
        }
      ],
      "source": [
        "def summarize_letters(userString):\n",
        "  # Convert string to lower\n",
        "  userString = userString.lower()\n",
        "  # create dictionary to store letters and thier count.\n",
        "  userStringDict = {}\n",
        "  # Loop over the string.\n",
        "  for i in userString:\n",
        "    # Check if it is a letter (this will skip over spaces, punctuation, etc.).\n",
        "    if i.isalpha():\n",
        "      # Update the different characters count.\n",
        "      # Will check the current characters count and iterate it.\n",
        "      # Will default to 0 for first iteration.\n",
        "      userStringDict[i] = userStringDict.get(i, 0) + 1\n",
        "  # Convert to a list of tuples and display it.\n",
        "  return list(userStringDict.items())\n",
        "\n",
        "userInput = input(\"Enter a word or phrase: \")\n",
        "print(summarize_letters(userInput))"
      ]
    },
    {
      "cell_type": "markdown",
      "source": [
        "Program Two"
      ],
      "metadata": {
        "id": "KPlfn_37v1SW"
      }
    },
    {
      "cell_type": "code",
      "source": [
        "# Get the phrase from the user.\n",
        "userInput = input(\"Enter a sentence: \")\n",
        "# Convert it to lowercase and split it up by words.\n",
        "userInput = userInput.lower().split()\n",
        "\n",
        "# Create a dictionary and loop over the words.\n",
        "# Each time a word is encountered, it will be iterated.\n",
        "# The first time it will default to 0 and be iterated to 1.\n",
        "dict = {}\n",
        "for i in userInput:\n",
        "  dict[i] = dict.get(i, 0) + 1\n",
        "print(dict)"
      ],
      "metadata": {
        "colab": {
          "base_uri": "https://localhost:8080/"
        },
        "id": "bNojIOMkv2il",
        "outputId": "66e8bbad-5114-4f38-9a23-617cb0e053c4"
      },
      "execution_count": 7,
      "outputs": [
        {
          "output_type": "stream",
          "name": "stdout",
          "text": [
            "Enter a sentence: My name is is noah\n",
            "{'my': 1, 'name': 1, 'is': 2, 'noah': 1}\n"
          ]
        }
      ]
    },
    {
      "cell_type": "markdown",
      "source": [
        "Program Three"
      ],
      "metadata": {
        "id": "41nJQlzx693Q"
      }
    },
    {
      "cell_type": "markdown",
      "source": [
        "In Python, a sequence is an ordered list or collection of things that can be accessed using indexing or slicing."
      ],
      "metadata": {
        "id": "hZF4zCpF7W0H"
      }
    },
    {
      "cell_type": "code",
      "source": [
        "def is_ordered(userInput):\n",
        "  # Check whether the input from the user is a string.\n",
        "  if isinstance(userInput, str):\n",
        "    # If it is a string, set input to lowercase, sort the input, and rejoin it.\n",
        "    return userInput.lower() == ''.join(sorted(userInput.lower()))\n",
        "  # If it is a list or tuple, compare the input vs. the sorted input.\n",
        "  # sorted returns a list, so convert the first part to a list to avoid issues with tuples.\n",
        "  elif isinstance(userInput, (list, tuple)):\n",
        "    return list(userInput) == sorted(userInput)\n",
        "  # If it is none of them, return false.\n",
        "  else:\n",
        "    return False\n",
        "\n",
        "# Get user input.\n",
        "# Use eval so the system can determine what sequence it is.\n",
        "# Due to it taking in strings and lists/tuples, some care is needed regarding the input format.\n",
        "userInput = eval(input(\"Enter a sequence (string, list, or tuple | If a string, place quotations around it): \"))\n",
        "print(f\"Is sorted: {is_ordered(userInput)}\")"
      ],
      "metadata": {
        "colab": {
          "base_uri": "https://localhost:8080/"
        },
        "id": "C6hAPpWR6_W3",
        "outputId": "52057672-cf99-403f-bb4b-3d9a85de0435"
      },
      "execution_count": 33,
      "outputs": [
        {
          "output_type": "stream",
          "name": "stdout",
          "text": [
            "Enter a sequence (string, list, or tuple | If a string, place quotations around it): \"adfpz\"\n",
            "Is sorted: True\n"
          ]
        }
      ]
    }
  ]
}